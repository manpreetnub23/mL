{
 "cells": [
  {
   "cell_type": "code",
   "execution_count": 8,
   "metadata": {},
   "outputs": [],
   "source": [
    "import numpy as np\n",
    "import time"
   ]
  },
  {
   "cell_type": "code",
   "execution_count": 27,
   "metadata": {},
   "outputs": [
    {
     "name": "stdout",
     "output_type": "stream",
     "text": [
      "1. addition \n",
      " 2. substraction. \n",
      " 3. multiplication.\n",
      "1\n",
      "number of rows ? 2\n",
      "number of columns ? 2\n",
      "2\n"
     ]
    },
    {
     "data": {
      "text/plain": [
       "array([[4, 2],\n",
       "       [6, 2]])"
      ]
     },
     "metadata": {},
     "output_type": "display_data"
    },
    {
     "data": {
      "text/plain": [
       "array([[8, 5],\n",
       "       [2, 6]])"
      ]
     },
     "metadata": {},
     "output_type": "display_data"
    },
    {
     "name": "stdout",
     "output_type": "stream",
     "text": [
      "[[12  7]\n",
      " [ 8  8]]\n",
      "time time for vectorized :  0.00015282630920410156\n",
      "addition using for loop : \n",
      "time time for iterated :  1.5497207641601562e-05\n",
      "[[12  7]\n",
      " [ 8  8]]\n"
     ]
    }
   ],
   "source": [
    "print('1. addition \\n 2. substraction. \\n 3. multiplication.')\n",
    "choice = int(input())\n",
    "n =  int(input(prompt = 'number of rows ? '))\n",
    "m =  int(input(prompt = 'number of columns ? '))\n",
    "matrix1 = np.random.randint(1,10,(n,m))\n",
    "print(len(matrix1[0]))\n",
    "matrix2 = np.random.randint(1,10,(n,m))\n",
    "if choice == 1:\n",
    "    display(matrix1,matrix2)\n",
    "    aadd1 = time.time()\n",
    "    print(matrix1 + matrix2)\n",
    "    badd1 = time.time()\n",
    "    print('time time for vectorized : ',badd1-aadd1)\n",
    "    print('addition using for loop : ')\n",
    "    aadd2 = time.time()\n",
    "    resAdd = [[matrix1[i][j] + matrix2[i][j] for j in range(m)] for i in range(n)]\n",
    "    resAdd = np.array(resAdd)\n",
    "    badd2 = time.time()\n",
    "    print('time time for iterated : ',badd2-aadd2)\n",
    "    \n",
    "    print(resAdd)\n",
    "elif choice == 2:\n",
    "    display(matrix1,matrix2)\n",
    "    asub1 = time.time()\n",
    "    print(matrix1 - matrix2)\n",
    "    print('time time for iterated : ',bsub2-asub2)\n",
    "    bsub1 = time.time()\n",
    "    print('time time for vectorized : ',bsub1-asub1)\n",
    "    print('substraction using for loop : ')\n",
    "    asub2 = time.time()\n",
    "    resSub = [[matrix1[i][j] + matrix2[i][j] for j in range(m)] for i in range(n)]\n",
    "    resSub = np.array(resSub)\n",
    "    bsub2 = time.time()\n",
    "    print('time time for iterated : ',bsub2-asub2)\n",
    "    \n",
    "else:\n",
    "    nm =  int(input(prompt = 'number of rows ? '))\n",
    "    mm =  int(input(prompt = 'number of columns ? '))\n",
    "    matrixformul = np.random.randint(1,10,(nm,mm))\n",
    "    display(matrix1,matrixformul)\n",
    "    if m == nm:\n",
    "        amul1 = time.time()\n",
    "        print(np.dot(matrix1,matrixformul))\n",
    "        bmul1 = time.time()\n",
    "        print('time time for vectorized : ',bmul1-amul1)\n",
    "        print('multiplication using for loop :')\n",
    "        amul2 = time.time()\n",
    "        temp = np.empty((n,mm))\n",
    "        for i in range(n):\n",
    "            for j in range(mm):\n",
    "                for k in range(nm):\n",
    "                    temp[i,j] += matrix1[i,k] * matrixformul[k,j]\n",
    "        print(temp)\n",
    "        bmul2 = time.time()\n",
    "        print('time time for iterated : ',bmul2-amul2)\n",
    "    else:\n",
    "        print('multiplication is not possible.')"
   ]
  },
  {
   "cell_type": "code",
   "execution_count": 9,
   "metadata": {},
   "outputs": [
    {
     "data": {
      "text/plain": [
       "['CLOCK_MONOTONIC',\n",
       " 'CLOCK_MONOTONIC_RAW',\n",
       " 'CLOCK_PROCESS_CPUTIME_ID',\n",
       " 'CLOCK_REALTIME',\n",
       " 'CLOCK_THREAD_CPUTIME_ID',\n",
       " '_STRUCT_TM_ITEMS',\n",
       " '__doc__',\n",
       " '__loader__',\n",
       " '__name__',\n",
       " '__package__',\n",
       " '__spec__',\n",
       " 'altzone',\n",
       " 'asctime',\n",
       " 'clock',\n",
       " 'clock_getres',\n",
       " 'clock_gettime',\n",
       " 'clock_gettime_ns',\n",
       " 'clock_settime',\n",
       " 'clock_settime_ns',\n",
       " 'ctime',\n",
       " 'daylight',\n",
       " 'get_clock_info',\n",
       " 'gmtime',\n",
       " 'localtime',\n",
       " 'mktime',\n",
       " 'monotonic',\n",
       " 'monotonic_ns',\n",
       " 'perf_counter',\n",
       " 'perf_counter_ns',\n",
       " 'process_time',\n",
       " 'process_time_ns',\n",
       " 'pthread_getcpuclockid',\n",
       " 'sleep',\n",
       " 'strftime',\n",
       " 'strptime',\n",
       " 'struct_time',\n",
       " 'thread_time',\n",
       " 'thread_time_ns',\n",
       " 'time',\n",
       " 'time_ns',\n",
       " 'timezone',\n",
       " 'tzname',\n",
       " 'tzset']"
      ]
     },
     "execution_count": 9,
     "metadata": {},
     "output_type": "execute_result"
    }
   ],
   "source": [
    "dir(time)"
   ]
  },
  {
   "cell_type": "code",
   "execution_count": null,
   "metadata": {},
   "outputs": [],
   "source": []
  }
 ],
 "metadata": {
  "kernelspec": {
   "display_name": "Python 3",
   "language": "python",
   "name": "python3"
  },
  "language_info": {
   "codemirror_mode": {
    "name": "ipython",
    "version": 3
   },
   "file_extension": ".py",
   "mimetype": "text/x-python",
   "name": "python",
   "nbconvert_exporter": "python",
   "pygments_lexer": "ipython3",
   "version": "3.7.0"
  }
 },
 "nbformat": 4,
 "nbformat_minor": 2
}
