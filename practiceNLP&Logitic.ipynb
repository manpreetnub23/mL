{
 "cells": [
  {
   "cell_type": "code",
   "execution_count": 52,
   "id": "22d44122-642a-4030-b004-7d53a3f0d6ab",
   "metadata": {},
   "outputs": [],
   "source": [
    "import numpy as np\n",
    "import pandas as pd\n",
    "from sklearn.datasets import *\n",
    "from sklearn.preprocessing import StandardScaler\n",
    "from sklearn.model_selection import StratifiedKFold\n",
    "from sklearn.linear_model import LogisticRegression\n",
    "import sklearn.metrics as metrics\n",
    "from sklearn.neural_network import MLPClassifier\n",
    "from sklearn.neural_network import MLPRegressor"
   ]
  },
  {
   "cell_type": "code",
   "execution_count": 6,
   "id": "788ed139-2c88-41e6-a254-42b44f6341a4",
   "metadata": {},
   "outputs": [
    {
     "data": {
      "text/html": [
       "<div>\n",
       "<style scoped>\n",
       "    .dataframe tbody tr th:only-of-type {\n",
       "        vertical-align: middle;\n",
       "    }\n",
       "\n",
       "    .dataframe tbody tr th {\n",
       "        vertical-align: top;\n",
       "    }\n",
       "\n",
       "    .dataframe thead th {\n",
       "        text-align: right;\n",
       "    }\n",
       "</style>\n",
       "<table border=\"1\" class=\"dataframe\">\n",
       "  <thead>\n",
       "    <tr style=\"text-align: right;\">\n",
       "      <th></th>\n",
       "      <th>sepal length (cm)</th>\n",
       "      <th>sepal width (cm)</th>\n",
       "      <th>petal length (cm)</th>\n",
       "      <th>petal width (cm)</th>\n",
       "    </tr>\n",
       "  </thead>\n",
       "  <tbody>\n",
       "    <tr>\n",
       "      <th>0</th>\n",
       "      <td>5.1</td>\n",
       "      <td>3.5</td>\n",
       "      <td>1.4</td>\n",
       "      <td>0.2</td>\n",
       "    </tr>\n",
       "    <tr>\n",
       "      <th>1</th>\n",
       "      <td>4.9</td>\n",
       "      <td>3.0</td>\n",
       "      <td>1.4</td>\n",
       "      <td>0.2</td>\n",
       "    </tr>\n",
       "    <tr>\n",
       "      <th>2</th>\n",
       "      <td>4.7</td>\n",
       "      <td>3.2</td>\n",
       "      <td>1.3</td>\n",
       "      <td>0.2</td>\n",
       "    </tr>\n",
       "    <tr>\n",
       "      <th>3</th>\n",
       "      <td>4.6</td>\n",
       "      <td>3.1</td>\n",
       "      <td>1.5</td>\n",
       "      <td>0.2</td>\n",
       "    </tr>\n",
       "    <tr>\n",
       "      <th>4</th>\n",
       "      <td>5.0</td>\n",
       "      <td>3.6</td>\n",
       "      <td>1.4</td>\n",
       "      <td>0.2</td>\n",
       "    </tr>\n",
       "  </tbody>\n",
       "</table>\n",
       "</div>"
      ],
      "text/plain": [
       "   sepal length (cm)  sepal width (cm)  petal length (cm)  petal width (cm)\n",
       "0                5.1               3.5                1.4               0.2\n",
       "1                4.9               3.0                1.4               0.2\n",
       "2                4.7               3.2                1.3               0.2\n",
       "3                4.6               3.1                1.5               0.2\n",
       "4                5.0               3.6                1.4               0.2"
      ]
     },
     "execution_count": 6,
     "metadata": {},
     "output_type": "execute_result"
    }
   ],
   "source": [
    "iris = load_iris()\n",
    "df = pd.DataFrame(iris.data, columns = iris.feature_names)\n",
    "df.head()"
   ]
  },
  {
   "cell_type": "code",
   "execution_count": 20,
   "id": "fbe1e2b7-8418-4eba-8788-c6f23189ffa0",
   "metadata": {},
   "outputs": [],
   "source": [
    "x = df.iloc[:,0:4]\n",
    "y = df.target"
   ]
  },
  {
   "cell_type": "code",
   "execution_count": 24,
   "id": "5f32efc8-f382-4c87-b96b-757b6ac77132",
   "metadata": {},
   "outputs": [],
   "source": [
    "sc = StandardScaler()"
   ]
  },
  {
   "cell_type": "code",
   "execution_count": 53,
   "id": "b635b81b-b98c-4e37-babd-0d3659c578ff",
   "metadata": {},
   "outputs": [],
   "source": [
    "x = sc.fit_transform(x)"
   ]
  },
  {
   "cell_type": "code",
   "execution_count": 54,
   "id": "8d563ae7-112a-4f66-8310-5278139bfbe8",
   "metadata": {},
   "outputs": [],
   "source": [
    "skf = StratifiedKFold(n_splits = 5)\n",
    "model = LogisticRegression(penalty = 'l2' , max_iter = 500)"
   ]
  },
  {
   "cell_type": "code",
   "execution_count": 57,
   "id": "f1bfad4f-a4dd-48f6-9f66-54b0e5800ca9",
   "metadata": {},
   "outputs": [
    {
     "name": "stdout",
     "output_type": "stream",
     "text": [
      "96.00000000000001\n"
     ]
    }
   ],
   "source": [
    "sum_test_accuracy = 0\n",
    "for trainIndex,testIndex in skf.split(x,y):\n",
    "    x_train = x[trainIndex]\n",
    "    y_train = y[trainIndex]\n",
    "    x_test = x[testIndex]\n",
    "    y_test = y[testIndex]\n",
    "    model.fit(x_train,y_train)\n",
    "    yPred = model.predict(x_test)\n",
    "    test_accuracy = metrics.accuracy_score(y_test,yPred)\n",
    "    sum_test_accuracy += test_accuracy\n",
    "print((sum_test_accuracy/5)*100)"
   ]
  },
  {
   "cell_type": "code",
   "execution_count": 58,
   "id": "5c6b7b38-9c91-42ed-905a-67cf2d733413",
   "metadata": {},
   "outputs": [],
   "source": [
    "mlpc = MLPClassifier(hidden_layer_sizes = (70,60),activation = 'logistic',solver = 'sgd',max_iter = 500)"
   ]
  },
  {
   "cell_type": "code",
   "execution_count": 60,
   "id": "ff76f9c5-c7ca-4581-8e3e-243e7767a93e",
   "metadata": {},
   "outputs": [
    {
     "name": "stdout",
     "output_type": "stream",
     "text": [
      "97.33333333333334\n"
     ]
    }
   ],
   "source": [
    "sum_test_accuracy = 0\n",
    "for trainIndex,testIndex in skf.split(x,y):\n",
    "    x_train = x[trainIndex]\n",
    "    y_train = y[trainIndex]\n",
    "    x_test = x[testIndex]\n",
    "    y_test = y[testIndex]\n",
    "    mlpc.fit(x_train,y_train)\n",
    "    yPred = model.predict(x_test)\n",
    "    test_accuracy = metrics.accuracy_score(y_test,yPred)\n",
    "    sum_test_accuracy += test_accuracy\n",
    "print((sum_test_accuracy/5)*100)"
   ]
  },
  {
   "cell_type": "code",
   "execution_count": null,
   "id": "ac78034b-1eeb-41a3-8f98-6bab6d82e0e4",
   "metadata": {},
   "outputs": [],
   "source": []
  },
  {
   "cell_type": "code",
   "execution_count": null,
   "id": "c82212f9-171e-48b0-8029-8f6f4e3131ba",
   "metadata": {},
   "outputs": [],
   "source": []
  }
 ],
 "metadata": {
  "kernelspec": {
   "display_name": "Python 3 (ipykernel)",
   "language": "python",
   "name": "python3"
  },
  "language_info": {
   "codemirror_mode": {
    "name": "ipython",
    "version": 3
   },
   "file_extension": ".py",
   "mimetype": "text/x-python",
   "name": "python",
   "nbconvert_exporter": "python",
   "pygments_lexer": "ipython3",
   "version": "3.12.0"
  }
 },
 "nbformat": 4,
 "nbformat_minor": 5
}
